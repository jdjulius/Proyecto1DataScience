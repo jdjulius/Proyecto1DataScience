{
 "cells": [
  {
   "cell_type": "markdown",
   "source": [
    "# Ejercicio N°1:\n",
    "Escribir un programa que pregunte al usuario o genere las ventas de los últimos 5 días, y muestre por pantalla una serie (Dataframe) con los datos de las ventas por producto (opcional): Nro de unidades y precio unitario, indexada por los días, antes y después de aplicarles un descuento del 5%."
   ],
   "metadata": {
    "collapsed": false
   }
  },
  {
   "cell_type": "code",
   "execution_count": 1,
   "outputs": [],
   "source": [
    "import pandas as pd"
   ],
   "metadata": {
    "collapsed": false,
    "ExecuteTime": {
     "end_time": "2023-07-16T02:47:10.584140700Z",
     "start_time": "2023-07-16T02:47:10.053077500Z"
    }
   }
  },
  {
   "cell_type": "code",
   "execution_count": 2,
   "outputs": [],
   "source": [
    "ventas = []\n",
    "\n",
    "for i in range(1, 6):\n",
    "    unidades = int(input(f\"Ingrese el número de unidades vendidas el día {i}: \"))\n",
    "    precio_unitario = float(input(f\"Ingrese el precio unitario del producto el día {i}: \"))\n",
    "    ventas.append({'Día': i, 'Unidades': unidades, 'Precio Unitario': precio_unitario})"
   ],
   "metadata": {
    "collapsed": false,
    "ExecuteTime": {
     "end_time": "2023-07-16T02:47:51.129290300Z",
     "start_time": "2023-07-16T02:47:16.475779300Z"
    }
   }
  },
  {
   "cell_type": "code",
   "execution_count": 3,
   "outputs": [],
   "source": [
    "df = pd.DataFrame(ventas)"
   ],
   "metadata": {
    "collapsed": false,
    "ExecuteTime": {
     "end_time": "2023-07-16T02:47:58.474194900Z",
     "start_time": "2023-07-16T02:47:58.468675300Z"
    }
   }
  },
  {
   "cell_type": "code",
   "execution_count": 4,
   "outputs": [],
   "source": [
    "df['Precio Descuento'] = df['Precio Unitario'] * 0.95"
   ],
   "metadata": {
    "collapsed": false,
    "ExecuteTime": {
     "end_time": "2023-07-16T02:48:02.614329800Z",
     "start_time": "2023-07-16T02:48:02.598224Z"
    }
   }
  },
  {
   "cell_type": "code",
   "execution_count": 5,
   "outputs": [],
   "source": [
    "df.set_index('Día', inplace=True)"
   ],
   "metadata": {
    "collapsed": false,
    "ExecuteTime": {
     "end_time": "2023-07-16T02:48:07.005358600Z",
     "start_time": "2023-07-16T02:48:06.997318900Z"
    }
   }
  },
  {
   "cell_type": "code",
   "execution_count": 6,
   "outputs": [
    {
     "name": "stdout",
     "output_type": "stream",
     "text": [
      "     Unidades  Precio Unitario  Precio Descuento\n",
      "Día                                             \n",
      "1          10              5.0              4.75\n",
      "2          20              5.0              4.75\n",
      "3          30              5.0              4.75\n",
      "4          40              5.0              4.75\n",
      "5          50              5.0              4.75\n"
     ]
    }
   ],
   "source": [
    "print(df)"
   ],
   "metadata": {
    "collapsed": false,
    "ExecuteTime": {
     "end_time": "2023-07-16T02:48:14.224450500Z",
     "start_time": "2023-07-16T02:48:14.177366800Z"
    }
   }
  },
  {
   "cell_type": "code",
   "execution_count": null,
   "outputs": [],
   "source": [],
   "metadata": {
    "collapsed": false
   }
  }
 ],
 "metadata": {
  "kernelspec": {
   "display_name": "Python 3",
   "language": "python",
   "name": "python3"
  },
  "language_info": {
   "codemirror_mode": {
    "name": "ipython",
    "version": 2
   },
   "file_extension": ".py",
   "mimetype": "text/x-python",
   "name": "python",
   "nbconvert_exporter": "python",
   "pygments_lexer": "ipython2",
   "version": "2.7.6"
  }
 },
 "nbformat": 4,
 "nbformat_minor": 0
}
